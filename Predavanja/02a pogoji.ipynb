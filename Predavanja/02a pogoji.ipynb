{
 "cells": [
  {
   "cell_type": "markdown",
   "metadata": {},
   "source": [
    "## Pogojni stavki\n",
    "\n",
    "Začnimo s preprostim programom za izračun indeksa telesne teže."
   ]
  },
  {
   "cell_type": "code",
   "execution_count": 7,
   "metadata": {},
   "outputs": [
    {
     "name": "stdout",
     "output_type": "stream",
     "text": [
      "Indeks vaše telesne teže je 24.161722462347985\n"
     ]
    }
   ],
   "source": [
    "teza = float(input(\"Teža: \"))\n",
    "visina = float(input(\"Telesna višina: \"))\n",
    "bmi = teza / visina ** 2\n",
    "print(\"Indeks vaše telesne teže je\", bmi)"
   ]
  },
  {
   "cell_type": "markdown",
   "metadata": {},
   "source": [
    "Želimo si, da bi program povedal še, ali je uporabnik slučajno preobilen. Prvi, seveda napačni poskus, bi bil takšen."
   ]
  },
  {
   "cell_type": "code",
   "execution_count": null,
   "metadata": {},
   "outputs": [
    {
     "name": "stdout",
     "output_type": "stream",
     "text": [
      "Indeks vaše telesne teže je 13.850415512465375\n",
      "Hej, presuh si\n",
      "Prosim pojej klobasco!\n",
      "Želim vam lep dan!\n"
     ]
    }
   ],
   "source": [
    "teza = float(input(\"Teža: \"))\n",
    "visina = float(input(\"Telesna višina: \"))\n",
    "bmi = teza / visina ** 2\n",
    "print(\"Indeks vaše telesne teže je\", bmi)\n",
    "if (bmi >= 25):\n",
    "    print('Hej, malo si predebel')\n",
    "    print('Prosim shujsaj')\n",
    "if (bmi < 15):\n",
    "    print('Hej, presuh si')\n",
    "    print('Prosim pojej klobasco!')\n",
    "else:\n",
    "    print(\"Bravo imaš super težo!\")\n",
    "\n",
    "print(\"Želim vam lep dan!\")\n"
   ]
  },
  {
   "cell_type": "markdown",
   "metadata": {},
   "source": [
    "Program v tej obliki bi, v širši rabi, povzročal anoreksijo, saj vse po vrsti, vključno z najstnicami, pošilja na hujšanje. Zadnjo vrstico, poziv k dieti, mora izvesti le, če je `bmi` večji od 25 (ta meja namreč velja za mejo debelosti, oziroma, politično korektno, prekomerne telesne teže).\n",
    "\n",
    "To storimo tako, da pred vrstico dodamo pogoj. Ta se glasi \"če bmi > 25\", le da ga moramo napisati v angleščini."
   ]
  },
  {
   "cell_type": "markdown",
   "metadata": {},
   "source": [
    "Zamaknjenih vrstic, print izven pogoja"
   ]
  },
  {
   "cell_type": "markdown",
   "metadata": {},
   "source": [
    "Program bi bil še bolj simpatičen, če bi tiste, ki niso predebeli, pohvalil. (else)"
   ]
  },
  {
   "cell_type": "code",
   "execution_count": null,
   "metadata": {},
   "outputs": [],
   "source": [
    "teza = float(input(\"Teža: \"))\n",
    "visina = float(input(\"Telesna višina: \"))\n",
    "if visina > 3:  # Predpostavimo, da ni Hagrid\n",
    "    visina = visina / 100\n",
    "bmi = teza / visina ** 2"
   ]
  },
  {
   "cell_type": "markdown",
   "metadata": {},
   "source": [
    "Naprej pa gre tako kot prej.\n",
    "\n",
    "Na prvem predavanju smo omenjali *rezervirane besede*, to je, besede, ki ne morejo biti imena spremenljivk. Med drugim sem pokazal besedo `if` - napisal sem `if = 1` in Python se je pritožil, da mu ni niti približno jasno, kaj hočem povedati.\n",
    "\n",
    "Zdaj vidimo, zakaj. Besedi `if` mora slediti nek pogoj. In `= 1` ni pogoj.\n",
    "\n"
   ]
  },
  {
   "cell_type": "code",
   "execution_count": null,
   "metadata": {},
   "outputs": [],
   "source": [
    "if bmi > 25: print (\"Potrebno bo shujšati\")"
   ]
  },
  {
   "cell_type": "markdown",
   "metadata": {},
   "source": [
    "vendar to vodi v nepregledne programe. To se ne dela.\n",
    "\n",
    "Tule pa je še nekaj primerov napačno zamikanih programov."
   ]
  },
  {
   "cell_type": "code",
   "execution_count": null,
   "metadata": {},
   "outputs": [],
   "source": [
    "if bmi > 25:\n",
    "    print(\"Potrebno bo shujšati!\")\n",
    "  print(\"Da, gospod ali gospa, preveč vas je skupaj.\")\n",
    "else:\n",
    "    print(\"Odlično, le še naprej jejte toliko kot doslej!\")\n",
    "print(\"Pregled je končan, oglasite se spet čez dva tedna.\")"
   ]
  },
  {
   "cell_type": "markdown",
   "metadata": {},
   "source": [
    "Tretja vrstica mora imeti enak zamik kot druga, sicer Python ne more vedeti, ali je še znotraj pogoja ali ne."
   ]
  },
  {
   "cell_type": "code",
   "execution_count": null,
   "metadata": {},
   "outputs": [],
   "source": [
    "if bmi > 25:\n",
    "    print(\"Potrebno bo shujšati!\")\n",
    "      print(\"Da, gospod ali gospa, preveč vas je skupaj.\")\n",
    "else:\n",
    "    print(\"Odlično, le še naprej jejte toliko kot doslej!\")\n",
    "print(\"Pregled je končan, oglasite se spet čez dva tedna.\")"
   ]
  },
  {
   "cell_type": "markdown",
   "metadata": {},
   "source": [
    "Ne, tudi v to smer ne smemo. Tu se Python vpraša, zakaj je tretja vrstica zamaknjena še bolj kot druga - smo pozabili še kakšen pogoj ali kaj?"
   ]
  },
  {
   "cell_type": "code",
   "execution_count": null,
   "metadata": {},
   "outputs": [],
   "source": [
    "if bmi > 25:\n",
    "print(\"Potrebno bo shujšati!\")\n",
    "print(\"Da, gospod ali gospa, preveč vas je skupaj.\")"
   ]
  },
  {
   "cell_type": "markdown",
   "metadata": {},
   "source": [
    "Blok za stavkom `if` mora biti zamaknjen."
   ]
  },
  {
   "cell_type": "code",
   "execution_count": null,
   "metadata": {},
   "outputs": [],
   "source": [
    "if bmi > 25:\n",
    "    print(\"Potrebno bo shujšati!\")\n",
    "    print(\"Da, gospod ali gospa, preveč vas je skupaj.\")\n",
    "  else:\n",
    "    print(\"Odlično, le še naprej jejte toliko kot doslej!\")\n",
    "print(\"Pregled je končan, oglasite se spet čez dva tedna.\")"
   ]
  },
  {
   "cell_type": "markdown",
   "metadata": {},
   "source": [
    "`if` in `else` morata biti poravnana. Kmalu bomo videli programe z več `if`i in `else`i; zamiki bodo potrebni, da bomo vedeli, kateri `else` sodi h kateremu `if`.\n",
    "\n",
    "Če poskušamo zagnati kateregakoli od naštetih programov, bo Python javil sintaktično napako. Za razliko od običajnih napak, ki jih boste delali, in ko bodo programi naredili vsaj nekaj malega in potem crknili, ta ne bo niti trznil, temveč kar takoj javil napako. Spodnji program pa je sintaktično pravilen. Python ga lahko izvede. Najbrž pa to ni to, kar smo hoteli, saj se zadnji `print` izvede le, če pogoj ni izpolnjen."
   ]
  },
  {
   "cell_type": "code",
   "execution_count": null,
   "metadata": {},
   "outputs": [],
   "source": [
    "#Pravilen\n",
    "teza = float(input(\"Teža: \"))\n",
    "visina = float(input(\"Telesna višina: \"))\n",
    "bmi = teza / visina ** 2\n",
    "print(\"Indeks vaše telesne teže je\", bmi)\n",
    "if (bmi >= 25):\n",
    "    print('Hej, malo si predebel')\n",
    "    print('Prosim shujsaj')\n",
    "if (bmi < 15):\n",
    "    print('Hej, presuh si')\n",
    "    print('Prosim pojej klobasco!')\n",
    "else:\n",
    "    print(\"Bravo imaš super težo!\")\n",
    "\n",
    "print(\"Želim vam lep dan!\")\n"
   ]
  },
  {
   "cell_type": "markdown",
   "metadata": {},
   "source": [
    "## Gnezdeni pogoji\n",
    "\n",
    "Do sem vse lepo in prav, vendar: kaj bomo z anoreksičnimi? Program bi jim mirno svetoval, naj še naprej jedo toliko kot doslej (torej: premalo). Ne: pri takšnih, ki imajo BMI manjši od 18.5, moramo zastokati, naj vendar že začnejo jesti.\n",
    "\n",
    "pod 18.5 so anoreksicni"
   ]
  },
  {
   "cell_type": "code",
   "execution_count": null,
   "metadata": {},
   "outputs": [
    {
     "name": "stdout",
     "output_type": "stream",
     "text": [
      "Indeks vaše telesne teže je 73.96449704142012\n",
      "Potrebno bo shujšati!\n",
      "Da, gospod ali gospa, preveč vas je skupaj.\n",
      "Vi pa ste en velikan\n",
      "Pregled je končan, oglasite se spet čez dva tedna.\n"
     ]
    }
   ],
   "source": [
    "teza = float(input(\"Teža: \"))\n",
    "visina = float(input(\"Telesna višina: \"))\n",
    "bmi = teza / visina ** 2\n",
    "print(\"Indeks vaše telesne teže je\", bmi)\n",
    "if bmi > 25:\n",
    "    print(\"Potrebno bo shujšati!\")\n",
    "    print(\"Da, gospod ali gospa, preveč vas je skupaj.\")\n",
    "    \n",
    "    if visina > 2.5:\n",
    "        print('Vi pa ste en velikan')\n",
    "    else:\n",
    "        print('Vi pa niste velikan')\n",
    "else:\n",
    "    print(\"Odlično, le še naprej jejte toliko kot doslej!\")\n",
    "print(\"Pregled je končan, oglasite se spet čez dva tedna.\")"
   ]
  },
  {
   "cell_type": "markdown",
   "metadata": {},
   "source": [
    "Vidimo? Znotraj `if`a ali `else`a smemo ugnezditi nov pogoj. Zamikamo ga lepo naprej.\n",
    "\n",
    "Da bodo reči še nekoliko daljše (a poučnejše), dodajmo še en `print`. Pred novim pogojem, ponavljanje kode"
   ]
  },
  {
   "cell_type": "markdown",
   "metadata": {},
   "source": [
    "Zdaj program vsem, ki niso predebeli, napiše dobro novico, da niso predebeli. Šele nato se loti preverjanja, da niso slučajno presuhi.\n",
    "\n",
    "Tule mimogrede (prvič - a še velikokrat bomo) posvarimo pred ponavljanjem kode. Gornji program bi lahko napisali tudi tako:"
   ]
  },
  {
   "cell_type": "markdown",
   "metadata": {},
   "source": [
    "To ni dobra ideja, ker je program daljši, manj pregleden, težje mu je slediti, težje ga je spreminjati... Vedno se izogibajte ponavljanju.\n",
    "\n",
    "## Sicerče\n",
    "\n",
    "Da se ne izgubimo, spet malo skrajšajmo program."
   ]
  },
  {
   "cell_type": "code",
   "execution_count": null,
   "metadata": {},
   "outputs": [],
   "source": [
    "teza = float(input(\"Teža: \"))\n",
    "visina = float(input(\"Telesna višina: \"))\n",
    "bmi = teza / visina ** 2\n",
    "print(\"Indeks vaše telesne teže je\", bmi)\n",
    "\n",
    "if bmi > 25:\n",
    "    print(\"Potrebno bo shujšati!\")\n",
    "elif bmi < 18.5:\n",
    "    print(\"Trlica!\")\n",
    "elif bmi < 15:\n",
    "    print(\"Umiraššš!\")\n",
    "else:\n",
    "    print(\"Odlično, le še naprej jejte toliko kot doslej!\")\n",
    "\n",
    "print('Konec')"
   ]
  },
  {
   "cell_type": "markdown",
   "metadata": {},
   "source": [
    "Pogojni stavki se nam lahko hitro zagnezdijo precej globoko in vrstice zbežijo nekam daleč proti desni. (Da ne govorimo o tem, da pogojni stavki niso niti približno edina reč, za katero bomo morali zamikati vrstice.) Ker so situacija, kakršna je zgornja, kar pogoste, imajo nekateri programski jeziki - in Python je med njimi - poleg `if` in `else` še `elseif` oziroma `elif`. (Še ena rezervirana beseda!) V Pythonu se uporablja slednja različica, `elif`. V gornjem programu ga uporabimo takole:"
   ]
  },
  {
   "cell_type": "markdown",
   "metadata": {},
   "source": [
    "Program se zdaj prebere še lepše kot prej: če je BMI prevelik, pozovemo k hujšanju, sicerče je premajhen, ozmerjamo dotično najstnico s trlico, sicer pa izrečemo pohvalo.\n",
    "\n",
    "Po izkušnjah je `elif` za študente huda, nenavadna skušnjava: nekateri ga pogosto uporabljajo namesto `else`a. Recimo, da bi hoteli sprogramirati skrajšano pesimistično različico, po kateri so vsi, ki niso debeluhi, trlice. Radi bi torej tole:"
   ]
  },
  {
   "cell_type": "code",
   "execution_count": null,
   "metadata": {},
   "outputs": [],
   "source": [
    "if bmi > 25:\n",
    "    print(\"Potrebno bo shujšati!\")\n",
    "else:\n",
    "    print(\"Trlica!\")"
   ]
  },
  {
   "cell_type": "markdown",
   "metadata": {},
   "source": [
    "Mnogi bi (iz meni neznanega razloga) naredili takole:"
   ]
  },
  {
   "cell_type": "code",
   "execution_count": null,
   "metadata": {},
   "outputs": [],
   "source": [
    "if bmi > 25 or bmi == 25:\n",
    "    print(\"Potrebno bo shujšati!\")\n",
    "elif bmi < 25:\n",
    "    print(\"Trlica!\")"
   ]
  },
  {
   "cell_type": "markdown",
   "metadata": {},
   "source": [
    "Torej: ne zamenjujte `else` brez potrebe z `elif`.\n",
    "\n",
    "\n",
    "## Pogoji\n",
    "\n",
    "Zdaj pa povejmo nekaj splošnejšega o pogojih. Kakšni vse so lahko? Najprej, pogoj je izraz. Torej nekaj, kar se da izračunati (po naši garažni definiciji izraza). Doslej so bili vsi naši izrazi nekako številski, aritmetični: v njih so nastopala števila in le-ta smo seštevali, množili, odštevali in kar se še takega dela s števili. Pogoji pa so logični izrazi. (V resnici se \"logičnost\" in \"številskost\" lahko poljubno prepletata, a to\n",
    "bomo mimogrede odkrili sproti.)\n",
    "\n",
    "Rezultat logičnega izraza je logična vrednost. Logične vrednosti niso števila (torej niso `int` ali `float`) in niso nizi, torej so nekaj četrtega. Podatkovni tip, ki hrani logične vrednosti, se imenuje `bool` (iz Boolean, po slovensko Booleov). Medtem ko je\n",
    "različnih števil (`int`, `float`) kar veliko (koliko, vam bodo povedali kolegi matematiki, ko bodo v predavalnico privlekli Cantorja in njegov trop alefov), ima tip `bool` lahko le eno od dveh vrednosti, `True` ali `False`. Tudi `True` in `False` rezervirani besedi. (Če prav štejemo, smo naleteli že na sedem rezerviranih besed od 35 - `if`, `else`,\n",
    "`elif`, `True` in `False`, na vajah oziroma ob domači nalogi pa še `from` in `import`.)\n",
    "\n",
    "S števili že znamo računati. Z nizi tudi malo. Kako pa računamo z logičnimi vrednostmi? Menda jih ne moremo kar tako seštevati in odštevati?\n",
    "\n",
    "Za logične izraze imamo (predvsem) tri operatorje: `or`, `and` in `not`. Kaj pomenijo, je menda jasno, če je kdo v dvomih, pa naj se pouči ob prvem predavanju iz Diskretnih struktur."
   ]
  },
  {
   "cell_type": "code",
   "execution_count": 27,
   "metadata": {},
   "outputs": [
    {
     "data": {
      "text/plain": [
       "True"
      ]
     },
     "execution_count": 27,
     "metadata": {},
     "output_type": "execute_result"
    }
   ],
   "source": [
    "variable_boolean = False\n",
    "# variable_boolean\n",
    "True and not False or True or False "
   ]
  },
  {
   "cell_type": "code",
   "execution_count": null,
   "metadata": {},
   "outputs": [],
   "source": [
    ">>> True and True\n",
    "True\n",
    ">>> True and False\n",
    "False\n",
    ">>> False or True\n",
    "True\n",
    ">>> not False\n",
    "True\n",
    ">>> False or not False\n",
    "True"
   ]
  },
  {
   "cell_type": "markdown",
   "metadata": {},
   "source": [
    "(`and`, `or` in `not` so rezervirane besede. 10 od 35!)\n",
    "\n",
    "Operator `not` ima prednost pred `and`, `and` pa pred `or`. Spet si lahko pomagamo z\n",
    "oklepaji: `a or b and c` pomeni isto kot `a or (b and c)` in bo resničen (`True`), če je resničen `a` ali pa sta resnična `b` in `c`. Izraz `(a or b) and c` pa bo resničen, če sta resnična `a` ali `b` (ali oba), poleg tega pa nujno še `c`. Pri tem seveda predpostavljamo, da `a`, `b` in `c` vsebujejo logične vrednosti.\n",
    "\n",
    "Da bo reč lažje razumljiva, jo potrenirajmo na prav tem izrazu, vendar tako, da namesto `a`, `b` in `c` oziroma namesto \"golih\" `True` in `False` pišemo bolj \"konkretne\" izraze."
   ]
  },
  {
   "cell_type": "code",
   "execution_count": null,
   "metadata": {},
   "outputs": [
    {
     "data": {
      "text/plain": [
       "False"
      ]
     },
     "execution_count": 30,
     "metadata": {},
     "output_type": "execute_result"
    }
   ],
   "source": [
    ">>> 352 > 0\n",
    "True\n",
    ">>> 5 < 3\n",
    "False\n",
    ">>> 352 > 0 or 5 < 3\n",
    "True\n",
    ">>> 352 > 0 or 5 > 3\n",
    "True\n",
    ">>> 352 > 0 and 5 > 3\n",
    "True\n",
    ">>> 352 > 0 and 5 < 3\n",
    "False\n",
    ">>> 352 > 0 and not 5 < 3\n",
    "True\n",
    ">>> 10 > 8 or 352 > 0 and 5 < 3\n",
    "True\n",
    ">>> 10 > 8 or (352 > 0 and 5 < 3)\n",
    "True\n",
    ">>> (10 > 8 or 352 > 0) and 5 < 3\n",
    "False\n",
    ">>> (10 > 8 or 352 > 0) and not 5 < 3\n",
    "True"
   ]
  },
  {
   "cell_type": "code",
   "execution_count": 37,
   "metadata": {},
   "outputs": [
    {
     "data": {
      "text/plain": [
       "False"
      ]
     },
     "execution_count": 37,
     "metadata": {},
     "output_type": "execute_result"
    }
   ],
   "source": [
    "x = 352 > 0 and not 5 < 3\n",
    "\n",
    "not x"
   ]
  },
  {
   "cell_type": "markdown",
   "metadata": {},
   "source": [
    "Operatorja < in > pričakujeta na levi in desni kake reči, ki jih je mogoče primerjati; zadovoljna nista le s števili, temveč tudi z, recimo, nizi (primerjala jih bosta po abecedi), ne moreta pa primerjati števila z nizom. Njun rezultat je logična vrednost. Za \"večje ali enako\" in \"manjše ali enako\" uporabimo `>=` in `<=`.\n",
    "\n",
    "Če želimo preveriti enakost dveh števil (ali, v splošnem, enakost dveh stvari), uporabimo dvojni enačaj, `==`. Enojni enačaj je namreč dobil svojo zadolžitev prejšnjo uro, namenjen je prirejanju. Ali sta dve stvari različni, preverimo z `!=`."
   ]
  },
  {
   "cell_type": "code",
   "execution_count": null,
   "metadata": {},
   "outputs": [],
   "source": [
    ">>> 1 + 1 == 2\n",
    "True\n",
    ">>> 1 + 1 != 2\n",
    "False"
   ]
  },
  {
   "cell_type": "code",
   "execution_count": 41,
   "metadata": {},
   "outputs": [
    {
     "data": {
      "text/plain": [
       "True"
      ]
     },
     "execution_count": 41,
     "metadata": {},
     "output_type": "execute_result"
    }
   ],
   "source": [
    "1 + 1 != 3"
   ]
  },
  {
   "cell_type": "markdown",
   "metadata": {},
   "source": [
    "Ne zamenjujte dvojnih in enojnih enačajev. Če pomotoma napišemo (a to se nam bo redko zgodilo), `a == 1 + 1` s tem nismo priredili `a`-ju dvojke, temveč smo le preverili, ali je enak 2. Pogostejša napaka pa bo"
   ]
  },
  {
   "cell_type": "code",
   "execution_count": 42,
   "metadata": {},
   "outputs": [
    {
     "ename": "SyntaxError",
     "evalue": "invalid syntax. Maybe you meant '==' or ':=' instead of '='? (596779155.py, line 1)",
     "output_type": "error",
     "traceback": [
      "  \u001b[36mCell\u001b[39m\u001b[36m \u001b[39m\u001b[32mIn[42]\u001b[39m\u001b[32m, line 1\u001b[39m\n\u001b[31m    \u001b[39m\u001b[31mif a = 1:\u001b[39m\n       ^\n\u001b[31mSyntaxError\u001b[39m\u001b[31m:\u001b[39m invalid syntax. Maybe you meant '==' or ':=' instead of '='?\n"
     ]
    }
   ],
   "source": [
    "\n",
    "if a = 1:\n",
    "    print(\"Vrednost a je ena\")"
   ]
  },
  {
   "cell_type": "markdown",
   "metadata": {},
   "source": [
    "Ta program pa je sintaktično nepravilen, saj Python za `if` pričakuje pogoj, mi pa smo napisali prireditveni stavek.\n",
    "\n",
    "(Omenimo druge jezike: večina tega je enaka v vseh jezikih. Za različnost imajo namesto `!=` nekateri `<>`. Namesto `and`, `or` in `not` imajo mnogi jeziki `&&`, `||` in `!`. V Pythonu so se odločili za \"besedne\" variante, da so programi zračnejši.)\n",
    "\n",
    "Zdaj pa Pythonova posebnost: operatorje smemo nizati. Izraz `10 < t < 20` je resničen, če je `t` med 10 in 20. Izraz `10 < t1 < t2 < 20` je resničen, če sta `t1` in `t2` med 10 in 20, pri čemer je `t1` manjši od `t2`. Izraz `t1 < 10 < t2` je resničen, če je `t1` manjši\n",
    "od 10, `t2` pa večji od 10. `10 < t1 == t2 < 20` je resničen, če sta `t1` in `t2` enaka ter sta nekje med 10 in 20.\n",
    "\n",
    "Če se torej končno vrnemo k suhcem in debeluhom: če bi se hoteli skoncentrirati le na te, ki so ravno pravšnji, bi lahko napisali, recimo"
   ]
  },
  {
   "cell_type": "code",
   "execution_count": null,
   "metadata": {},
   "outputs": [],
   "source": [
    "if bmi > 18.5 and bmi < 25:\n",
    "    print(\"Čestitamo, ravno pravšnji ste.\")"
   ]
  },
  {
   "cell_type": "markdown",
   "metadata": {},
   "source": [
    "Če bi kdo napisal"
   ]
  },
  {
   "cell_type": "code",
   "execution_count": null,
   "metadata": {},
   "outputs": [],
   "source": [
    "if (bmi > 18.5) and (bmi < 25):\n",
    "    print(\"Čestitamo, ravno pravšnji ste.\")"
   ]
  },
  {
   "cell_type": "markdown",
   "metadata": {},
   "source": [
    "ali celo"
   ]
  },
  {
   "cell_type": "code",
   "execution_count": null,
   "metadata": {},
   "outputs": [],
   "source": [
    "if ((bmi > 18.5) and (bmi < 25)):\n",
    "    print(\"Čestitamo, ravno pravšnji ste.\")"
   ]
  },
  {
   "cell_type": "markdown",
   "metadata": {},
   "source": [
    "Ga bomo čudno gledali (((kdor hoče oklepaje, naj gre raje programirat v\n",
    "[Lispu](http://xkcd.com/297/)))). Prav po Pythonovsko pa se reče:"
   ]
  },
  {
   "cell_type": "code",
   "execution_count": null,
   "metadata": {},
   "outputs": [],
   "source": [
    "if 18.5 < bmi < 25:\n",
    "    print(\"Čestitamo, ravno pravšnji ste.\")\n"
   ]
  },
  {
   "cell_type": "markdown",
   "metadata": {},
   "source": [
    "## Kurzschluss\n",
    "\n",
    "Tale tema je nekoliko bolj zapletena, vendar je prav, da tudi pri Programiranju 1 slišite kaj zapletenega. (Pa ne preveč.) No, v resnici pa vam moram tole povedati tudi zavoljo temeljitosti. Da mi ne bo kdo očital, da sem pri poučevanju šlampast. Sploh pa se je na prejšnjih predavanjih pokazalo, da ste pametnejši, kot smo pričakovali, in prav je, da ste\n",
    "za to vsaj malo tepeni.\n",
    "\n",
    "Wikipedia definira kratek stik v električni napeljavi oz. vezju kot nekaj, kar dovoli elektriki, da potuje po krajši poti, kot je bila mišljena. Po domače, [kurzschluss](http://de.wikipedia.org/wiki/Elektrischer_Kurzschluss) je, ko se v televiziji nekaj zabliska, potem pa namesto, da bi delala, samo še smrdi. (Ravno v času pisanja tega besedila sem imel namreč v dnevni sobi na mizi primerek televizije, ki je popolnoma ustrezal gornjemu opisu, vključno z bliskanjem in smradom.) Namesto da bi elektrika tekla čez transformatorje in druga navitja, steče po bližnjici.\n",
    "\n",
    "Short-circuit behaviour, lahko bi ga prevedli kot kratkostično vedenje, v programskih jezikih pomeni, da po bližnjici steče izvajanje programa. Pri tem navadno ni ne bliskanja ne smradu, ker je takšno vedenje zaželeno. Za primer poglejmo, kako bi se računala vrednost `(10 < 8 or 352 < 0) and 18574 + 50485 == 69059`. 10 ni manj od 8 in 352 ni manj od 0. `False or False` je `False`. Prvi del izraza, vse, kar je pred `and`-om je `False`. Preden začne računalnik seštevati tiste velike številke desno od `and`-a pa pomisli: komu na čast? Po tem, kar sem naračunal doslej, vem, da imam `False and 18574 + 50485 == 69059`. To bo neresnično v vsakem primeru, ne glede na ono vsoto. Zato drugega dela sploh ne računa, temveč že kar takoj vrne `False`.\n",
    "\n",
    "Pravilo je torej takšno: če je izraz, ki je levo od `and`, neresničen, vrednosti izraza, ki je desno od `and`, sploh ne računa.\n",
    "\n",
    "Podobno, le ravno obratno, bližnjico lahko uberemo pri `or`. Kako bi računali vrednost `10 > 8 or 352 > 0`? Najprej ugotovimo, da je 10 res več kot 8. Moramo zdaj res preverjati še, ali je 352 več kot 0? Ne, saj že vemo, da bo izraz resničen. Kako pa je z `10 < 8 or 352 > 0`. Bomo, ko ugotovimo, da ni res, da je 10 manjše od 8, nehali računati? Ne, izraz je še vedno lahko resničen, reši nas lahko drugi del (in tudi v resnici nas). Pač pa bi pri izrazu `10 < 8 and 352 > 0` vrgli puško v koruzo že po prvem neuspehu, saj nas morebitni drugi uspeh ne more rešiti.\n",
    "\n",
    "Pravilo kratkega stika si lahko zapomnimo na dva načina. Prvi, formalni, je tale: če je izraz levo od `or` resničen, potem onega desno od `or` ne preverjamo, saj že vemo, da bo rezultat resničen. Prav tako, če je izraz levo od `and` neresničen, potem onega desno od njega ne preverjamo, saj že vemo, da bo rezultat neresničen. Drugi način je neformalen: izraz se računa od leve proti desni in samo, dokler je treba.\n",
    "\n",
    "\n",
    "Študent pa se najbrž že sprašuje: me to res briga? Računalnik naj računa kar in kolikor hoče, meni je pomembno samo, da bo na koncu naračunal prav. V resnici je tako: če kratkega stika ne poznamo, nam ne bo nič hudega. Če ga, pa nam lahko pride zelo zelo prav. Primer pride kmalu."
   ]
  }
 ],
 "metadata": {
  "kernelspec": {
   "display_name": "Python 3",
   "language": "python",
   "name": "python3"
  },
  "language_info": {
   "codemirror_mode": {
    "name": "ipython",
    "version": 3
   },
   "file_extension": ".py",
   "mimetype": "text/x-python",
   "name": "python",
   "nbconvert_exporter": "python",
   "pygments_lexer": "ipython3",
   "version": "3.13.2"
  }
 },
 "nbformat": 4,
 "nbformat_minor": 4
}
