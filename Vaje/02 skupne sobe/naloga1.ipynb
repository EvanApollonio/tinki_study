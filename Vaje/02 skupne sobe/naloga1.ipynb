{
 "cells": [
  {
   "cell_type": "markdown",
   "metadata": {},
   "source": [
    "## Ogrevanje: Zaporedje števil\n",
    "\n",
    "Ob takem zaporedju bi zavil z očmi celo Collatz: naslednji člen zaporedja izračunamo tako, da trenutni člen pomnožimo s 13, prištejemo 1 in nato izračunamo ostanek po deljenju s 16, se pravi $x_i = (13 x_{i - 1} + 1)\\;\\%\\;16$, pri čemer `%` pomeni ostanek po deljenju. Začetni člen zaporedja naj bo 0.\n",
    "\n",
    "Napiši program, ki izračuna in izpiše prvih 16 členov tega zaporedja. Izpisati mora torej\n",
    "\n",
    "```\n",
    "0\n",
    "1\n",
    "14\n",
    "7\n",
    "12\n",
    "13\n",
    "10\n",
    "3\n",
    "8\n",
    "9\n",
    "6\n",
    "15\n",
    "4\n",
    "5\n",
    "2\n",
    "11\n",
    "```\n",
    "\n"
   ]
  },
  {
   "cell_type": "code",
   "execution_count": null,
   "metadata": {},
   "outputs": [],
   "source": [
    "### Rešitev\n"
   ]
  },
  {
   "cell_type": "markdown",
   "metadata": {},
   "source": [
    "## Naloga (nadaljevanje)\n",
    "\n",
    "Zdaj pa spremeni program tako, da bo izpisal 1000 členov zaporedja. Hitro boš videl(a), da se stalno ponavlja istih 16 členov, kar je dolgčas, zato ga spremeni program tako, da uporablja drugačno formulo za izračun naslednjega člena: $x_i = (1664525\\,x_{i - 1} + 1013904223)\\;\\%\\;2^{32}$. Zdaj se zaporedje začne z\n",
    "\n",
    "```\n",
    "0\n",
    "1013904223\n",
    "1196435762\n",
    "3519870697\n",
    "2868466484\n",
    "1649599747\n",
    "2670642822\n",
    "1476291629\n",
    "2748932008\n",
    "2180890343\n",
    "```\n"
   ]
  },
  {
   "cell_type": "code",
   "execution_count": 1,
   "metadata": {},
   "outputs": [
    {
     "name": "stdout",
     "output_type": "stream",
     "text": [
      "0\n",
      "1013904223\n",
      "1196435762\n",
      "3519870697\n",
      "2868466484\n",
      "1649599747\n",
      "2670642822\n",
      "1476291629\n",
      "2748932008\n",
      "2180890343\n"
     ]
    }
   ],
   "source": [
    "### Rešitev\n",
    "x = 0\n",
    "i = 0\n",
    "while i < 10 :\n",
    "    print(x)\n",
    "    x = (1664525 * x + 1013904223) % 2**32\n",
    "    i = i + 1"
   ]
  },
  {
   "cell_type": "markdown",
   "metadata": {},
   "source": [
    "## Glavni del: Zaporedje sob\n",
    "\n",
    "V nekem hodniku je 10 sob. Ker je lastnik računalnikar, so označene s številkami od 0 do 9 in ne od 1 do 10.\n",
    "\n",
    "Ana obiskuje sobe v naključnem vrstnem redu, ki ga dobi tako, da računa člene zaporedja iz prejšnje naloge (zadnjega, tistega z velikimi koeficienti). Za vsak člen pogleda skrajno desno števko in gre v sobo s to številko. Pri gornjem zaporedju gre torej v sobe 0, 1, 6, 1, 8, 9, ...\n",
    "\n",
    "Ker ima preveč časa (najbrž je v samoizolaciji?), to ponovi tisočkrat. Program naj ne izpisuje členov ali sob, temveč naj izpiše, kolikokrat je bila Ana v sobi številka 6.\n",
    "\n",
    "(Če se nisem zmotil, je pravilni odgovor 96.)"
   ]
  },
  {
   "cell_type": "code",
   "execution_count": 2,
   "metadata": {},
   "outputs": [
    {
     "name": "stdout",
     "output_type": "stream",
     "text": [
      "96\n"
     ]
    }
   ],
   "source": [
    "### Rešitev\n",
    "x = 0\n",
    "i = 0\n",
    "soba = 0\n",
    "while i < 1000 :\n",
    "\n",
    "    if x % 10 == 6:\n",
    "        soba = soba + 1\n",
    "    \n",
    "    x = (1664525 * x + 1013904223) % 2**32\n",
    "    i = i + 1\n",
    "\n",
    "print(soba)"
   ]
  },
  {
   "cell_type": "code",
   "execution_count": 4,
   "metadata": {},
   "outputs": [
    {
     "data": {
      "text/plain": [
       "4"
      ]
     },
     "execution_count": 4,
     "metadata": {},
     "output_type": "execute_result"
    }
   ],
   "source": [
    "22314123124 % 10"
   ]
  },
  {
   "cell_type": "markdown",
   "metadata": {},
   "source": [
    "Najbrž se nisem motil. :)\n",
    "\n",
    "\n",
    "### Dodatna naloga: Srečanja\n",
    "\n",
    "Tudi Berta je v samoizolaciji in hodi po istih sobah, le drugačno formulo uporablja: $x_i = (22695477\\,x_{i - 1} + 1)\\;\\%\\;2^{32}$. Tudi ona gre vedno v sobo, ki jo določi glede na ostanek po deljenju člena z 10. Tudi ona to stori tisočkrat.\n",
    "\n",
    "Obe računata enako hitro, se pravi, obe gresta najprej v sobo, ki ustreza prvemu členu, nato obe v istem trenutku v sobo, ki ustreza drugemu členu, tretjemu ...\n",
    "\n",
    "Napiši program, ki izračuna, kolikokrat se bosta srečali.\n",
    "\n",
    "(Če se nisem zmotil, je pravilni odgovor 195.)"
   ]
  },
  {
   "cell_type": "code",
   "execution_count": null,
   "metadata": {},
   "outputs": [
    {
     "name": "stdout",
     "output_type": "stream",
     "text": [
      "195\n"
     ]
    }
   ],
   "source": [
    "ana = 0\n",
    "berta = 0\n",
    "i = 0\n",
    "srecanje = 0\n",
    "while i < 1000 :\n",
    "\n",
    "    if (ana % 10) == (berta % 10):\n",
    "        srecanje = srecanje + 1\n",
    "\n",
    "    ana = (1664525 * ana + 1013904223) % 2**32\n",
    "    \n",
    "    berta = (22695477 * berta + 1) % 2**32\n",
    "    \n",
    "    i = i + 1\n",
    "\n",
    "print(srecanje)"
   ]
  }
 ],
 "metadata": {
  "kernelspec": {
   "display_name": "Python 3",
   "language": "python",
   "name": "python3"
  },
  "language_info": {
   "codemirror_mode": {
    "name": "ipython",
    "version": 3
   },
   "file_extension": ".py",
   "mimetype": "text/x-python",
   "name": "python",
   "nbconvert_exporter": "python",
   "pygments_lexer": "ipython3",
   "version": "3.13.2"
  }
 },
 "nbformat": 4,
 "nbformat_minor": 4
}
